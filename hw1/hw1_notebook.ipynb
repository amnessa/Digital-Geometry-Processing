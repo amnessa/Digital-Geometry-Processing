{
 "cells": [
  {
   "cell_type": "markdown",
   "metadata": {},
   "source": [
    "For the first part of Assignment 1—computing geodesics on meshes using Dijkstra’s algorithm—you need to think of your mesh as an undirected graph where each vertex is a node and the edges connect vertices with weights equal to the Euclidean distance between them. Here’s an outline of how you might approach the project:\n",
    "\n",
    "1. **Graph Construction:**  \n",
    "   Convert your mesh into a graph representation. Each mesh vertex becomes a graph node, and each edge is weighted by the Euclidean distance between its two vertices.\n",
    "\n",
    "2. **Dijkstra’s Algorithm:**  \n",
    "   Implement Dijkstra’s algorithm to compute the shortest (geodesic) path from each vertex to every other vertex. For each source vertex, maintain:\n",
    "   - A distance array initialized to infinity (with the source set to zero).\n",
    "   - A predecessor (or parent) array to later reconstruct the shortest path.\n",
    "   - A priority queue to efficiently select the vertex with the smallest tentative distance.\n",
    "   \n",
    "   You can experiment with different data structures (e.g., a simple array, a binary min-heap, or a Fibonacci heap) to see their impact on performance.\n",
    "\n",
    "3. **Distance Matrix and Path Reconstruction:**  \n",
    "   Once you run Dijkstra from every vertex, you’ll have an N×N geodesic distance matrix (where N is the number of vertices). Use the predecessor arrays to extract specific paths between query vertices. This will allow you to highlight the edges along a chosen geodesic path in your visualization.\n",
    "\n",
    "4. **Visualization:**  \n",
    "   The assignment requires you to visualize the geodesic path between two query points by redrawing the edges with thicker red lines. You can leverage the provided parsable functions (see your \"parsable_functions_file.txt\" and the Painter.cpp code snippet) to help with rendering the mesh and highlighting specific edges.\n",
    "\n",
    "5. **Performance Reporting:**  \n",
    "   Measure and compare the running times when using different priority queue implementations (array, min-heap, Fibonacci heap). Report these timings as part of your assignment.\n",
    "\n",
    "**Pseudocode Example:**\n",
    "\n",
    "```\n",
    "for each vertex s in mesh:\n",
    "    initialize distance[] with ∞ for all vertices, set distance[s] = 0\n",
    "    initialize predecessor[] to track paths\n",
    "    create a priority queue Q and insert s with priority 0\n",
    "    while Q is not empty:\n",
    "        u = Q.extractMin()\n",
    "        for each neighbor v of u:\n",
    "            alt = distance[u] + weight(u, v)\n",
    "            if alt < distance[v]:\n",
    "                distance[v] = alt\n",
    "                predecessor[v] = u\n",
    "                Q.decreaseKey(v, alt)\n",
    "```\n",
    "\n",
    "After running the algorithm from every vertex, store the distances in an N×N matrix. Then, to visualize a particular path, backtrack from the destination vertex using the predecessor pointers to get the sequence of vertices, and use your rendering helper functions to draw thicker red lines along those edges.\n",
    "\n",
    "**What to Check Next:**  \n",
    "- Verify that your mesh is correctly represented as a graph.  \n",
    "- Use the provided parsable functions (like those in your Painter.cpp file) to help with drawing the mesh and the computed paths.  \n",
    "- Compare your implementation's performance with different priority queue data structures.\n",
    "\n",
    "This approach aligns with the instructions in both the current assignment (see [44] assignment1.pdf) and the previous version ([42] assignment1_old.pdf). If you need more details or specific code examples on integrating with libigl or setting up the visualization, let me know!"
   ]
  }
 ],
 "metadata": {
  "kernelspec": {
   "display_name": ".venv",
   "language": "python",
   "name": "python3"
  },
  "language_info": {
   "name": "python",
   "version": "3.12.3"
  }
 },
 "nbformat": 4,
 "nbformat_minor": 2
}
